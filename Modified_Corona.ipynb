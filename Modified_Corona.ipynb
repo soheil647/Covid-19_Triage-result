{
 "cells": [
  {
   "cell_type": "code",
   "execution_count": 1,
   "metadata": {},
   "outputs": [],
   "source": [
    "import pandas as pd\n",
    "import numpy as np\n",
    "import matplotlib.pyplot as plt\n",
    "\n",
    "pd.set_option('display.max_rows', 500)\n",
    "pd.set_option('display.max_columns', 500)\n",
    "pd.set_option('display.width', 1000)"
   ]
  },
  {
   "cell_type": "code",
   "execution_count": 5,
   "metadata": {},
   "outputs": [
    {
     "data": {
      "text/html": [
       "<div>\n",
       "<style scoped>\n",
       "    .dataframe tbody tr th:only-of-type {\n",
       "        vertical-align: middle;\n",
       "    }\n",
       "\n",
       "    .dataframe tbody tr th {\n",
       "        vertical-align: top;\n",
       "    }\n",
       "\n",
       "    .dataframe thead th {\n",
       "        text-align: right;\n",
       "    }\n",
       "</style>\n",
       "<table border=\"1\" class=\"dataframe\">\n",
       "  <thead>\n",
       "    <tr style=\"text-align: right;\">\n",
       "      <th>1</th>\n",
       "      <th>Age (yr)</th>\n",
       "      <th>Gender</th>\n",
       "      <th>Tempreture</th>\n",
       "      <th>BMI</th>\n",
       "      <th>sPO2%</th>\n",
       "      <th>fever</th>\n",
       "      <th>chill</th>\n",
       "      <th>cough</th>\n",
       "      <th>dyspnea</th>\n",
       "      <th>headache</th>\n",
       "      <th>anosmia</th>\n",
       "      <th>dysgeusia</th>\n",
       "      <th>skin infection</th>\n",
       "      <th>prolonged fever/dyspnea/cough</th>\n",
       "      <th>Triage result</th>\n",
       "    </tr>\n",
       "  </thead>\n",
       "  <tbody>\n",
       "    <tr>\n",
       "      <th>0</th>\n",
       "      <td>73</td>\n",
       "      <td>male</td>\n",
       "      <td>36.6</td>\n",
       "      <td>24.97</td>\n",
       "      <td>98</td>\n",
       "      <td>0</td>\n",
       "      <td>0</td>\n",
       "      <td>0</td>\n",
       "      <td>0</td>\n",
       "      <td>0</td>\n",
       "      <td>0</td>\n",
       "      <td>0</td>\n",
       "      <td>0</td>\n",
       "      <td>0</td>\n",
       "      <td>1</td>\n",
       "    </tr>\n",
       "    <tr>\n",
       "      <th>1</th>\n",
       "      <td>29</td>\n",
       "      <td>female</td>\n",
       "      <td>37.1</td>\n",
       "      <td>24.61</td>\n",
       "      <td>97</td>\n",
       "      <td>0</td>\n",
       "      <td>1</td>\n",
       "      <td>1</td>\n",
       "      <td>0</td>\n",
       "      <td>0</td>\n",
       "      <td>0</td>\n",
       "      <td>0</td>\n",
       "      <td>0</td>\n",
       "      <td>0</td>\n",
       "      <td>1</td>\n",
       "    </tr>\n",
       "    <tr>\n",
       "      <th>2</th>\n",
       "      <td>27</td>\n",
       "      <td>female</td>\n",
       "      <td>37</td>\n",
       "      <td>23.73</td>\n",
       "      <td>99</td>\n",
       "      <td>0</td>\n",
       "      <td>1</td>\n",
       "      <td>1</td>\n",
       "      <td>1</td>\n",
       "      <td>0</td>\n",
       "      <td>0</td>\n",
       "      <td>0</td>\n",
       "      <td>0</td>\n",
       "      <td>0</td>\n",
       "      <td>1</td>\n",
       "    </tr>\n",
       "    <tr>\n",
       "      <th>3</th>\n",
       "      <td>81</td>\n",
       "      <td>male</td>\n",
       "      <td>36.5</td>\n",
       "      <td>31.16</td>\n",
       "      <td>94</td>\n",
       "      <td>0</td>\n",
       "      <td>0</td>\n",
       "      <td>0</td>\n",
       "      <td>0</td>\n",
       "      <td>0</td>\n",
       "      <td>0</td>\n",
       "      <td>0</td>\n",
       "      <td>0</td>\n",
       "      <td>0</td>\n",
       "      <td>1</td>\n",
       "    </tr>\n",
       "    <tr>\n",
       "      <th>4</th>\n",
       "      <td>34</td>\n",
       "      <td>female</td>\n",
       "      <td>37.2</td>\n",
       "      <td>18.34</td>\n",
       "      <td>96</td>\n",
       "      <td>1</td>\n",
       "      <td>0</td>\n",
       "      <td>0</td>\n",
       "      <td>0</td>\n",
       "      <td>0</td>\n",
       "      <td>0</td>\n",
       "      <td>0</td>\n",
       "      <td>0</td>\n",
       "      <td>0</td>\n",
       "      <td>1</td>\n",
       "    </tr>\n",
       "    <tr>\n",
       "      <th>...</th>\n",
       "      <td>...</td>\n",
       "      <td>...</td>\n",
       "      <td>...</td>\n",
       "      <td>...</td>\n",
       "      <td>...</td>\n",
       "      <td>...</td>\n",
       "      <td>...</td>\n",
       "      <td>...</td>\n",
       "      <td>...</td>\n",
       "      <td>...</td>\n",
       "      <td>...</td>\n",
       "      <td>...</td>\n",
       "      <td>...</td>\n",
       "      <td>...</td>\n",
       "      <td>...</td>\n",
       "    </tr>\n",
       "    <tr>\n",
       "      <th>3260</th>\n",
       "      <td>71</td>\n",
       "      <td>male</td>\n",
       "      <td>36</td>\n",
       "      <td>32.41</td>\n",
       "      <td>84</td>\n",
       "      <td>0</td>\n",
       "      <td>0</td>\n",
       "      <td>1</td>\n",
       "      <td>1</td>\n",
       "      <td>0</td>\n",
       "      <td>0</td>\n",
       "      <td>0</td>\n",
       "      <td>0</td>\n",
       "      <td>0</td>\n",
       "      <td>3</td>\n",
       "    </tr>\n",
       "    <tr>\n",
       "      <th>3261</th>\n",
       "      <td>39</td>\n",
       "      <td>female</td>\n",
       "      <td>37</td>\n",
       "      <td>40.39</td>\n",
       "      <td>90</td>\n",
       "      <td>0</td>\n",
       "      <td>0</td>\n",
       "      <td>1</td>\n",
       "      <td>1</td>\n",
       "      <td>1</td>\n",
       "      <td>0</td>\n",
       "      <td>0</td>\n",
       "      <td>0</td>\n",
       "      <td>1</td>\n",
       "      <td>3</td>\n",
       "    </tr>\n",
       "    <tr>\n",
       "      <th>3262</th>\n",
       "      <td>56</td>\n",
       "      <td>male</td>\n",
       "      <td>35</td>\n",
       "      <td>23.03</td>\n",
       "      <td>90</td>\n",
       "      <td>0</td>\n",
       "      <td>0</td>\n",
       "      <td>1</td>\n",
       "      <td>0</td>\n",
       "      <td>0</td>\n",
       "      <td>0</td>\n",
       "      <td>0</td>\n",
       "      <td>0</td>\n",
       "      <td>1</td>\n",
       "      <td>3</td>\n",
       "    </tr>\n",
       "    <tr>\n",
       "      <th>3263</th>\n",
       "      <td>68</td>\n",
       "      <td>female</td>\n",
       "      <td>36.2</td>\n",
       "      <td>32</td>\n",
       "      <td>94</td>\n",
       "      <td>0</td>\n",
       "      <td>1</td>\n",
       "      <td>1</td>\n",
       "      <td>1</td>\n",
       "      <td>0</td>\n",
       "      <td>0</td>\n",
       "      <td>0</td>\n",
       "      <td>0</td>\n",
       "      <td>1</td>\n",
       "      <td>3</td>\n",
       "    </tr>\n",
       "    <tr>\n",
       "      <th>3264</th>\n",
       "      <td>69</td>\n",
       "      <td>male</td>\n",
       "      <td>37.3</td>\n",
       "      <td>23.88</td>\n",
       "      <td>92</td>\n",
       "      <td>0</td>\n",
       "      <td>0</td>\n",
       "      <td>1</td>\n",
       "      <td>1</td>\n",
       "      <td>0</td>\n",
       "      <td>0</td>\n",
       "      <td>0</td>\n",
       "      <td>0</td>\n",
       "      <td>1</td>\n",
       "      <td>3</td>\n",
       "    </tr>\n",
       "  </tbody>\n",
       "</table>\n",
       "<p>3265 rows × 15 columns</p>\n",
       "</div>"
      ],
      "text/plain": [
       "1    Age (yr)  Gender Tempreture    BMI sPO2% fever chill cough dyspnea headache anosmia dysgeusia skin infection prolonged fever/dyspnea/cough Triage result\n",
       "0          73    male       36.6  24.97    98     0     0     0       0        0       0         0              0                             0             1\n",
       "1          29  female       37.1  24.61    97     0     1     1       0        0       0         0              0                             0             1\n",
       "2          27  female         37  23.73    99     0     1     1       1        0       0         0              0                             0             1\n",
       "3          81    male       36.5  31.16    94     0     0     0       0        0       0         0              0                             0             1\n",
       "4          34  female       37.2  18.34    96     1     0     0       0        0       0         0              0                             0             1\n",
       "...       ...     ...        ...    ...   ...   ...   ...   ...     ...      ...     ...       ...            ...                           ...           ...\n",
       "3260       71    male         36  32.41    84     0     0     1       1        0       0         0              0                             0             3\n",
       "3261       39  female         37  40.39    90     0     0     1       1        1       0         0              0                             1             3\n",
       "3262       56    male         35  23.03    90     0     0     1       0        0       0         0              0                             1             3\n",
       "3263       68  female       36.2     32    94     0     1     1       1        0       0         0              0                             1             3\n",
       "3264       69    male       37.3  23.88    92     0     0     1       1        0       0         0              0                             1             3\n",
       "\n",
       "[3265 rows x 15 columns]"
      ]
     },
     "metadata": {},
     "output_type": "display_data"
    }
   ],
   "source": [
    "covid_df = pd.read_excel(\"CoronaData_Modified.xlsx\")\n",
    "covid_df.columns = covid_df.iloc[1]\n",
    "covid_df = covid_df.drop(covid_df.index[[0,1,2,3,4]]).dropna().reset_index().drop('index', axis=1)\n",
    "\n",
    "# print(covid_df.describe(include='all'))\n",
    "display(covid_df)"
   ]
  },
  {
   "cell_type": "code",
   "execution_count": 7,
   "metadata": {},
   "outputs": [
    {
     "name": "stdout",
     "output_type": "stream",
     "text": [
      "<class 'pandas.core.frame.DataFrame'>\n",
      "RangeIndex: 3265 entries, 0 to 3264\n",
      "Data columns (total 15 columns):\n",
      " #   Column                         Non-Null Count  Dtype  \n",
      "---  ------                         --------------  -----  \n",
      " 0   Age (yr)                       3265 non-null   int64  \n",
      " 1   Gender                         3265 non-null   object \n",
      " 2   Tempreture                     3265 non-null   float64\n",
      " 3   BMI                            3265 non-null   float64\n",
      " 4   sPO2%                          3265 non-null   int64  \n",
      " 5   fever                          3265 non-null   int64  \n",
      " 6   chill                          3265 non-null   int64  \n",
      " 7   cough                          3265 non-null   int64  \n",
      " 8   dyspnea                        3265 non-null   int64  \n",
      " 9   headache                       3265 non-null   int64  \n",
      " 10  anosmia                        3265 non-null   int64  \n",
      " 11  dysgeusia                      3265 non-null   int64  \n",
      " 12  skin infection                 3265 non-null   int64  \n",
      " 13  prolonged fever/dyspnea/cough  3265 non-null   int64  \n",
      " 14  Triage result                  3265 non-null   int64  \n",
      "dtypes: float64(2), int64(12), object(1)\n",
      "memory usage: 369.9+ KB\n"
     ]
    },
    {
     "data": {
      "text/plain": [
       "None"
      ]
     },
     "metadata": {},
     "output_type": "display_data"
    }
   ],
   "source": [
    "cols=[i for i in covid_df.columns if i not in [\"Gender\"]]\n",
    "for col in cols:\n",
    "    covid_df[col]=pd.to_numeric(covid_df[col])\n",
    "display(covid_df.info())"
   ]
  },
  {
   "cell_type": "code",
   "execution_count": 8,
   "metadata": {},
   "outputs": [
    {
     "data": {
      "text/plain": [
       "1\n",
       "Age (yr)                         0.145314\n",
       "Tempreture                       0.044487\n",
       "BMI                              0.058095\n",
       "sPO2%                           -0.224290\n",
       "fever                            0.206916\n",
       "chill                            0.206597\n",
       "cough                            0.183100\n",
       "dyspnea                          0.163312\n",
       "headache                         0.102009\n",
       "anosmia                          0.076340\n",
       "dysgeusia                        0.086485\n",
       "skin infection                   0.026094\n",
       "prolonged fever/dyspnea/cough    0.172687\n",
       "Triage result                    1.000000\n",
       "Name: Triage result, dtype: float64"
      ]
     },
     "execution_count": 8,
     "metadata": {},
     "output_type": "execute_result"
    }
   ],
   "source": [
    "covid_df[covid_df.columns].corr()['Triage result'][:]"
   ]
  },
  {
   "cell_type": "code",
   "execution_count": 9,
   "metadata": {},
   "outputs": [
    {
     "data": {
      "image/png": "[encoded data removed]",
      "text/plain": [
       "<Figure size 432x288 with 1 Axes>"
      ]
     },
     "metadata": {
      "needs_background": "light"
     },
     "output_type": "display_data"
    },
    {
     "data": {
      "image/png": "[encoded data removed]",
      "text/plain": [
       "<Figure size 432x288 with 1 Axes>"
      ]
     },
     "metadata": {
      "needs_background": "light"
     },
     "output_type": "display_data"
    },
    {
     "data": {
      "image/png": "[encoded data removed]",
      "text/plain": [
       "<Figure size 432x288 with 1 Axes>"
      ]
     },
     "metadata": {
      "needs_background": "light"
     },
     "output_type": "display_data"
    },
    {
     "data": {
      "image/png": "[encoded data removed]",
      "text/plain": [
       "<Figure size 432x288 with 1 Axes>"
      ]
     },
     "metadata": {
      "needs_background": "light"
     },
     "output_type": "display_data"
    },
    {
     "data": {
      "image/png": "[encoded data removed]",
      "text/plain": [
       "<Figure size 432x288 with 1 Axes>"
      ]
     },
     "metadata": {
      "needs_background": "light"
     },
     "output_type": "display_data"
    },
    {
     "data": {
      "image/png": "[encoded data removed]",
      "text/plain": [
       "<Figure size 432x288 with 1 Axes>"
      ]
     },
     "metadata": {
      "needs_background": "light"
     },
     "output_type": "display_data"
    },
    {
     "data": {
      "image/png": "[encoded data removed]",
      "text/plain": [
       "<Figure size 432x288 with 1 Axes>"
      ]
     },
     "metadata": {
      "needs_background": "light"
     },
     "output_type": "display_data"
    },
    {
     "data": {
      "image/png": "[encoded data removed]",
      "text/plain": [
       "<Figure size 432x288 with 1 Axes>"
      ]
     },
     "metadata": {
      "needs_background": "light"
     },
     "output_type": "display_data"
    },
    {
     "data": {
      "image/png": "[encoded data removed]",
      "text/plain": [
       "<Figure size 432x288 with 1 Axes>"
      ]
     },
     "metadata": {
      "needs_background": "light"
     },
     "output_type": "display_data"
    },
    {
     "data": {
      "image/png": "[encoded data removed]",
      "text/plain": [
       "<Figure size 432x288 with 1 Axes>"
      ]
     },
     "metadata": {
      "needs_background": "light"
     },
     "output_type": "display_data"
    },
    {
     "data": {
      "image/png": "[encoded data removed]",
      "text/plain": [
       "<Figure size 432x288 with 1 Axes>"
      ]
     },
     "metadata": {
      "needs_background": "light"
     },
     "output_type": "display_data"
    },
    {
     "data": {
      "image/png": "[encoded data removed]",
      "text/plain": [
       "<Figure size 432x288 with 1 Axes>"
      ]
     },
     "metadata": {
      "needs_background": "light"
     },
     "output_type": "display_data"
    },
    {
     "data": {
      "image/png": "[encoded data removed]",
      "text/plain": [
       "<Figure size 432x288 with 1 Axes>"
      ]
     },
     "metadata": {
      "needs_background": "light"
     },
     "output_type": "display_data"
    },
    {
     "data": {
      "image/png": "[encoded data removed]",
      "text/plain": [
       "<Figure size 432x288 with 1 Axes>"
      ]
     },
     "metadata": {
      "needs_background": "light"
     },
     "output_type": "display_data"
    },
    {
     "data": {
      "image/png": "[encoded data removed]",
      "text/plain": [
       "<Figure size 432x288 with 1 Axes>"
      ]
     },
     "metadata": {
      "needs_background": "light"
     },
     "output_type": "display_data"
    }
   ],
   "source": [
    "from collections import Counter\n",
    "for column in covid_df.columns:\n",
    "    column_count = Counter(list(covid_df[column].values))\n",
    "    x, y = zip(*column_count.most_common(15))\n",
    "    plt.figure()\n",
    "    plt.barh(x, y)\n",
    "    for i, val in enumerate(y):\n",
    "        plt.annotate(val, (y[i], x[i]), color='b')\n",
    "        plt.gca().invert_yaxis()\n",
    "        plt.title(column)\n",
    "        plt.ylabel('values')\n",
    "        plt.xlabel('count')\n",
    "        plt.grid(False, axis='y')\n",
    "        plt.show()\n",
    "        break\n"
   ]
  },
  {
   "cell_type": "code",
   "execution_count": 10,
   "metadata": {},
   "outputs": [
    {
     "data": {
      "text/html": [
       "<div>\n",
       "<style scoped>\n",
       "    .dataframe tbody tr th:only-of-type {\n",
       "        vertical-align: middle;\n",
       "    }\n",
       "\n",
       "    .dataframe tbody tr th {\n",
       "        vertical-align: top;\n",
       "    }\n",
       "\n",
       "    .dataframe thead th {\n",
       "        text-align: right;\n",
       "    }\n",
       "</style>\n",
       "<table border=\"1\" class=\"dataframe\">\n",
       "  <thead>\n",
       "    <tr style=\"text-align: right;\">\n",
       "      <th>1</th>\n",
       "      <th>Age (yr)</th>\n",
       "      <th>Tempreture</th>\n",
       "      <th>BMI</th>\n",
       "      <th>sPO2%</th>\n",
       "      <th>fever</th>\n",
       "      <th>chill</th>\n",
       "      <th>cough</th>\n",
       "      <th>dyspnea</th>\n",
       "      <th>headache</th>\n",
       "      <th>anosmia</th>\n",
       "      <th>dysgeusia</th>\n",
       "      <th>skin infection</th>\n",
       "      <th>prolonged fever/dyspnea/cough</th>\n",
       "      <th>Triage result</th>\n",
       "    </tr>\n",
       "  </thead>\n",
       "  <tbody>\n",
       "    <tr>\n",
       "      <th>count</th>\n",
       "      <td>3265.000000</td>\n",
       "      <td>3265.000000</td>\n",
       "      <td>3265.000000</td>\n",
       "      <td>3265.000000</td>\n",
       "      <td>3265.000000</td>\n",
       "      <td>3265.000000</td>\n",
       "      <td>3265.000000</td>\n",
       "      <td>3265.000000</td>\n",
       "      <td>3265.000000</td>\n",
       "      <td>3265.000000</td>\n",
       "      <td>3265.000000</td>\n",
       "      <td>3265.000000</td>\n",
       "      <td>3265.000000</td>\n",
       "      <td>3265.000000</td>\n",
       "    </tr>\n",
       "    <tr>\n",
       "      <th>mean</th>\n",
       "      <td>42.549158</td>\n",
       "      <td>36.708631</td>\n",
       "      <td>27.040340</td>\n",
       "      <td>96.114548</td>\n",
       "      <td>0.271975</td>\n",
       "      <td>0.274426</td>\n",
       "      <td>0.484839</td>\n",
       "      <td>0.353446</td>\n",
       "      <td>0.199387</td>\n",
       "      <td>0.107504</td>\n",
       "      <td>0.074119</td>\n",
       "      <td>0.002757</td>\n",
       "      <td>0.261256</td>\n",
       "      <td>1.597243</td>\n",
       "    </tr>\n",
       "    <tr>\n",
       "      <th>std</th>\n",
       "      <td>14.787883</td>\n",
       "      <td>0.618133</td>\n",
       "      <td>4.789394</td>\n",
       "      <td>2.211210</td>\n",
       "      <td>0.445045</td>\n",
       "      <td>0.446293</td>\n",
       "      <td>0.499847</td>\n",
       "      <td>0.478113</td>\n",
       "      <td>0.399601</td>\n",
       "      <td>0.309800</td>\n",
       "      <td>0.262005</td>\n",
       "      <td>0.052438</td>\n",
       "      <td>0.439386</td>\n",
       "      <td>0.587705</td>\n",
       "    </tr>\n",
       "    <tr>\n",
       "      <th>min</th>\n",
       "      <td>5.000000</td>\n",
       "      <td>34.800000</td>\n",
       "      <td>15.430000</td>\n",
       "      <td>64.000000</td>\n",
       "      <td>0.000000</td>\n",
       "      <td>0.000000</td>\n",
       "      <td>0.000000</td>\n",
       "      <td>0.000000</td>\n",
       "      <td>0.000000</td>\n",
       "      <td>0.000000</td>\n",
       "      <td>0.000000</td>\n",
       "      <td>0.000000</td>\n",
       "      <td>0.000000</td>\n",
       "      <td>1.000000</td>\n",
       "    </tr>\n",
       "    <tr>\n",
       "      <th>25%</th>\n",
       "      <td>32.000000</td>\n",
       "      <td>36.300000</td>\n",
       "      <td>23.880000</td>\n",
       "      <td>95.000000</td>\n",
       "      <td>0.000000</td>\n",
       "      <td>0.000000</td>\n",
       "      <td>0.000000</td>\n",
       "      <td>0.000000</td>\n",
       "      <td>0.000000</td>\n",
       "      <td>0.000000</td>\n",
       "      <td>0.000000</td>\n",
       "      <td>0.000000</td>\n",
       "      <td>0.000000</td>\n",
       "      <td>1.000000</td>\n",
       "    </tr>\n",
       "    <tr>\n",
       "      <th>50%</th>\n",
       "      <td>40.000000</td>\n",
       "      <td>36.600000</td>\n",
       "      <td>26.560000</td>\n",
       "      <td>96.000000</td>\n",
       "      <td>0.000000</td>\n",
       "      <td>0.000000</td>\n",
       "      <td>0.000000</td>\n",
       "      <td>0.000000</td>\n",
       "      <td>0.000000</td>\n",
       "      <td>0.000000</td>\n",
       "      <td>0.000000</td>\n",
       "      <td>0.000000</td>\n",
       "      <td>0.000000</td>\n",
       "      <td>2.000000</td>\n",
       "    </tr>\n",
       "    <tr>\n",
       "      <th>75%</th>\n",
       "      <td>51.000000</td>\n",
       "      <td>37.100000</td>\n",
       "      <td>29.630000</td>\n",
       "      <td>97.000000</td>\n",
       "      <td>1.000000</td>\n",
       "      <td>1.000000</td>\n",
       "      <td>1.000000</td>\n",
       "      <td>1.000000</td>\n",
       "      <td>0.000000</td>\n",
       "      <td>0.000000</td>\n",
       "      <td>0.000000</td>\n",
       "      <td>0.000000</td>\n",
       "      <td>1.000000</td>\n",
       "      <td>2.000000</td>\n",
       "    </tr>\n",
       "    <tr>\n",
       "      <th>max</th>\n",
       "      <td>98.000000</td>\n",
       "      <td>39.800000</td>\n",
       "      <td>61.140000</td>\n",
       "      <td>100.000000</td>\n",
       "      <td>1.000000</td>\n",
       "      <td>1.000000</td>\n",
       "      <td>1.000000</td>\n",
       "      <td>1.000000</td>\n",
       "      <td>1.000000</td>\n",
       "      <td>1.000000</td>\n",
       "      <td>1.000000</td>\n",
       "      <td>1.000000</td>\n",
       "      <td>1.000000</td>\n",
       "      <td>3.000000</td>\n",
       "    </tr>\n",
       "  </tbody>\n",
       "</table>\n",
       "</div>"
      ],
      "text/plain": [
       "1         Age (yr)   Tempreture          BMI        sPO2%        fever        chill        cough      dyspnea     headache      anosmia    dysgeusia  skin infection  prolonged fever/dyspnea/cough  Triage result\n",
       "count  3265.000000  3265.000000  3265.000000  3265.000000  3265.000000  3265.000000  3265.000000  3265.000000  3265.000000  3265.000000  3265.000000     3265.000000                    3265.000000    3265.000000\n",
       "mean     42.549158    36.708631    27.040340    96.114548     0.271975     0.274426     0.484839     0.353446     0.199387     0.107504     0.074119        0.002757                       0.261256       1.597243\n",
       "std      14.787883     0.618133     4.789394     2.211210     0.445045     0.446293     0.499847     0.478113     0.399601     0.309800     0.262005        0.052438                       0.439386       0.587705\n",
       "min       5.000000    34.800000    15.430000    64.000000     0.000000     0.000000     0.000000     0.000000     0.000000     0.000000     0.000000        0.000000                       0.000000       1.000000\n",
       "25%      32.000000    36.300000    23.880000    95.000000     0.000000     0.000000     0.000000     0.000000     0.000000     0.000000     0.000000        0.000000                       0.000000       1.000000\n",
       "50%      40.000000    36.600000    26.560000    96.000000     0.000000     0.000000     0.000000     0.000000     0.000000     0.000000     0.000000        0.000000                       0.000000       2.000000\n",
       "75%      51.000000    37.100000    29.630000    97.000000     1.000000     1.000000     1.000000     1.000000     0.000000     0.000000     0.000000        0.000000                       1.000000       2.000000\n",
       "max      98.000000    39.800000    61.140000   100.000000     1.000000     1.000000     1.000000     1.000000     1.000000     1.000000     1.000000        1.000000                       1.000000       3.000000"
      ]
     },
     "metadata": {},
     "output_type": "display_data"
    }
   ],
   "source": [
    "display(covid_df.describe())"
   ]
  },
  {
   "cell_type": "code",
   "execution_count": 11,
   "metadata": {},
   "outputs": [],
   "source": [
    "# Import label encoder \n",
    "from sklearn import preprocessing \n",
    "  \n",
    "# label_encoder object knows how to understand word labels. \n",
    "label_encoder = preprocessing.LabelEncoder() \n",
    "  \n",
    "# Encode labels in column 'species'. \n",
    "covid_df['Gender']= label_encoder.fit_transform(covid_df['Gender']) "
   ]
  },
  {
   "cell_type": "code",
   "execution_count": 12,
   "metadata": {},
   "outputs": [],
   "source": [
    "from sklearn.metrics import mean_squared_error, mean_absolute_error\n",
    "from sklearn.model_selection import train_test_split, cross_val_score\n",
    "from sklearn.neighbors import KNeighborsRegressor\n",
    "from sklearn.svm import SVR\n",
    "from sklearn.linear_model import LogisticRegression, LinearRegression, Ridge, Lasso, BayesianRidge, RidgeCV, LassoLars, \\\n",
    "    ElasticNet, TheilSenRegressor, ARDRegression, RANSACRegressor, HuberRegressor\n",
    "import matplotlib.pyplot as plt\n",
    "from sklearn.tree import DecisionTreeRegressor\n",
    "from sklearn.preprocessing import PolynomialFeatures\n",
    "from sklearn.ensemble import RandomForestRegressor, BaggingRegressor, VotingRegressor\n",
    "from sklearn.ensemble import AdaBoostRegressor\n",
    "\n",
    "\n",
    "class ModelCreator:\n",
    "    \"\"\"\n",
    "    Models Are; svr, knn, tree, logistic, linear, ridge, lasso, bayesian, ridgecv, LassoLars, ElasticNetو\n",
    "    BaggingClassifier(base_estimator=estimator, n_estimators=number_of_estimator, max_features=0.5)\n",
    "    Set test_split_available to split test and train\n",
    "    \"\"\"\n",
    "\n",
    "    def __init__(self, x_train, y_train, test_split_available=False, test_size=0.1, shuffle=True, number_of_estimator=10, estimator=None, estimators=None, random_state=None):\n",
    "        if test_split_available:\n",
    "            self.x_train, self.x_test, self.y_train, self.y_test = train_test_split(x_train, y_train,\n",
    "                                                                                    test_size=test_size,\n",
    "                                                                                    shuffle=shuffle,\n",
    "                                                                                    random_state=random_state)\n",
    "        else:\n",
    "            self.x_test = x_train\n",
    "            self.y_test = y_train\n",
    "            self.x_train = x_train\n",
    "            self.y_train = y_train\n",
    "        self.y_predict_test = {}\n",
    "        self.y_predict_train = {}\n",
    "        self.models = {'svr': SVR(), 'knn': KNeighborsRegressor(), 'tree': DecisionTreeRegressor(),\n",
    "                       'logistic': LogisticRegression(), 'linear': LinearRegression(), 'ridge': Ridge(),\n",
    "                       'ridgecv': RidgeCV(), 'lasso': Lasso(), 'lassolars': LassoLars(alpha=0.1),\n",
    "                       'bayesian': BayesianRidge(), 'ElasticNet': ElasticNet(),\n",
    "                       'TheilSenRegressor': TheilSenRegressor(),\n",
    "                       'ARDRegression': ARDRegression(), 'RANSACRegressor': RANSACRegressor(),\n",
    "                       'HuberRegressor': HuberRegressor(), 'randomForest': RandomForestRegressor(n_estimators=50),\n",
    "                       'boost': AdaBoostRegressor(random_state=0, n_estimators=100)}\n",
    "\n",
    "        self.estimator = self.models[estimator]\n",
    "        estimators_list = []\n",
    "        for i in range(len(estimators)):\n",
    "            estimators_list.append((estimators[i], self.models[estimators[i]]))\n",
    "\n",
    "        self.models = {'svr': SVR(), 'knn': KNeighborsRegressor(), 'tree': DecisionTreeRegressor(),\n",
    "                       'logistic': LogisticRegression(), 'linear': LinearRegression(), 'ridge': Ridge(),\n",
    "                       'ridgecv': RidgeCV(), 'lasso': Lasso(), 'lassolars': LassoLars(alpha=0.1),\n",
    "                       'bayesian': BayesianRidge(), 'ElasticNet': ElasticNet(),\n",
    "                       'TheilSenRegressor': TheilSenRegressor(),\n",
    "                       'ARDRegression': ARDRegression(), 'RANSACRegressor': RANSACRegressor(),\n",
    "                       'HuberRegressor': HuberRegressor(), 'randomForest': RandomForestRegressor(n_estimators=50),\n",
    "                       'bagging': BaggingRegressor(base_estimator=self.estimator, n_estimators=number_of_estimator, max_features=0.8),\n",
    "                       'voting': VotingRegressor(estimators=estimators_list), 'boost': AdaBoostRegressor(random_state=0, n_estimators=100)}\n",
    "\n",
    "    def fit(self, model_name, show_train_error=False, show_output=False):\n",
    "        regr = self.models[model_name]\n",
    "        regr.fit(self.x_train, self.y_train)\n",
    "        self.y_predict_test = regr.predict(self.x_test)\n",
    "        self.y_predict_train = regr.predict(self.x_train)\n",
    "        if show_output:\n",
    "            df = pd.DataFrame({'Actual': self.y_test, 'Predicted': self.y_predict_test})\n",
    "            print(df)\n",
    "\n",
    "        print(\"########### Test Error for Model name: \", model_name, \" ###########\")\n",
    "        accuracy = regr.score(self.x_test, self.y_test)\n",
    "        print('Accuracy is : ', accuracy * 100, '%')\n",
    "        print('Mean Absolute Error:', mean_absolute_error(self.y_test, self.y_predict_test))\n",
    "        print('Mean Squared Error:', mean_squared_error(self.y_test, self.y_predict_test))\n",
    "        print('Root Mean Squared Error:', np.sqrt(mean_squared_error(self.y_test, self.y_predict_test)))\n",
    "\n",
    "        scores = cross_val_score(regr, self.x_test, self.y_test, cv=5)\n",
    "        print('Cross Score is: ', scores.mean())\n",
    "\n",
    "        if show_train_error:\n",
    "            print(\"########### Train Error for ###########\")\n",
    "            accuracy = regr.score(self.x_train, self.y_train)\n",
    "            print('Accuracy is : ', accuracy * 100, '%')\n",
    "            print('Mean Absolute Error:', mean_absolute_error(self.y_train, self.y_predict_train))\n",
    "            print('Mean Squared Error:', mean_squared_error(self.y_train, self.y_predict_train))\n",
    "            print('Root Mean Squared Error:', np.sqrt(mean_squared_error(self.y_train, self.y_predict_train)))\n",
    "            scores = cross_val_score(regr, self.x_test, self.y_test, cv=5)\n",
    "            print('Cross Score is: ', scores.mean())\n",
    "\n",
    "    def plot_input(self, custom_figure, custom_column):\n",
    "        custom_figure()\n",
    "        plt.title('Daily New Corona Virus Cases')\n",
    "        plt.xlabel('Day')\n",
    "        plt.ylabel('New Cases')\n",
    "        plt.plot(list(self.y_train))\n",
    "        plt.show()\n",
    "        plt.title(custom_column)\n",
    "        plt.xlabel('Day')\n",
    "        plt.ylabel(custom_column)\n",
    "        plt.plot(list(self.x_train[custom_column]))\n",
    "        plt.show()\n",
    "\n",
    "    def plot_output(self, model_name, custom_figure, test_target):\n",
    "        custom_figure()\n",
    "        if test_target:\n",
    "            predicted, = plt.plot(self.y_predict_test, label='Predicted')\n",
    "            actual, = plt.plot(list(self.y_test), label='Actual')\n",
    "        else:\n",
    "            predicted, = plt.plot(self.y_predict_train, label='Predicted')\n",
    "            actual, = plt.plot(list(self.y_train), label='Actual')\n",
    "        plt.xlabel('Day')\n",
    "        plt.ylabel('New Cases')\n",
    "        plt.title(model_name)\n",
    "        plt.legend(['Predicted', 'Actual'])\n",
    "        plt.show()\n",
    "\n",
    "    def train_model(self, model_name, custom_figure=plt.figure, custom_column='total_cars', test_target=True,\n",
    "                    plot_input=False,\n",
    "                    plot_output=True, show_train_error=False, show_output=False):\n",
    "        \"\"\"\n",
    "        :param model_name: define model\n",
    "        :param show_output: if true show outputs and predicted data:\n",
    "        :param show_train_error: if true show train error:\n",
    "        :param custom_figure: to change figure in Plot\n",
    "        :param custom_column: Column for input Plot\n",
    "        :param test_target: if true plot train data and predict\n",
    "        :param plot_input: if true plot input target and custom_column\n",
    "        :param plot_output: if true plot output predict and actual base on test_target\n",
    "        :return None:\n",
    "        \"\"\"\n",
    "        if plot_input:\n",
    "            self.plot_input(custom_figure=custom_figure, custom_column=custom_column)\n",
    "        self.fit(model_name=model_name, show_train_error=show_train_error, show_output=show_output)\n",
    "        if plot_output:\n",
    "            self.plot_output(model_name=model_name, custom_figure=custom_figure, test_target=test_target)\n",
    "        print(\"END MODEL\\n\")"
   ]
  },
  {
   "cell_type": "code",
   "execution_count": 13,
   "metadata": {},
   "outputs": [
    {
     "name": "stdout",
     "output_type": "stream",
     "text": [
      "########### Test Error for Model name:  voting  ###########\n",
      "Accuracy is :  16.69847488943368 %\n",
      "Mean Absolute Error: 0.4798559477512688\n",
      "Mean Squared Error: 0.27532292094989913\n",
      "Root Mean Squared Error: 0.5247122267966501\n",
      "Cross Score is:  0.09816347364470482\n",
      "########### Train Error for ###########\n",
      "Accuracy is :  46.12021520069032 %\n",
      "Mean Absolute Error: 0.3917447937190941\n",
      "Mean Squared Error: 0.18760255415840557\n",
      "Root Mean Squared Error: 0.43313110504604213\n",
      "Cross Score is:  0.0955466733510371\n"
     ]
    },
    {
     "data": {
      "image/png": "[encoded data removed]",
      "text/plain": [
       "<Figure size 432x288 with 1 Axes>"
      ]
     },
     "metadata": {
      "needs_background": "light"
     },
     "output_type": "display_data"
    },
    {
     "name": "stdout",
     "output_type": "stream",
     "text": [
      "END MODEL\n",
      "\n"
     ]
    }
   ],
   "source": [
    "# rand = np.random.randint(0, 100)\n",
    "rand = 42\n",
    "target = covid_df['Triage result']\n",
    "train = covid_df.drop('Triage result', axis=1)\n",
    "model = ModelCreator(train, target, test_split_available=True, test_size=0.2, estimator='randomForest', estimators=['knn', 'lasso', 'linear', 'randomForest'], random_state=rand)\n",
    "\n",
    "model.train_model('voting', show_train_error=True)"
   ]
  }
 ],
 "metadata": {
  "kernelspec": {
   "display_name": "Python 3",
   "language": "python",
   "name": "python3"
  },
  "language_info": {
   "codemirror_mode": {
    "name": "ipython",
    "version": 3
   },
   "file_extension": ".py",
   "mimetype": "text/x-python",
   "name": "python",
   "nbconvert_exporter": "python",
   "pygments_lexer": "ipython3",
   "version": "3.8.5"
  }
 },
 "nbformat": 4,
 "nbformat_minor": 4
}
